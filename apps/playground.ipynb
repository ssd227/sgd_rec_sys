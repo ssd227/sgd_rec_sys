{
 "cells": [
  {
   "attachments": {},
   "cell_type": "markdown",
   "metadata": {},
   "source": [
    "### 通用测试环境\n",
    "\n"
   ]
  },
  {
   "cell_type": "code",
   "execution_count": 1,
   "metadata": {},
   "outputs": [],
   "source": [
    "# 写一个大根堆，or 小根堆\n",
    "\n",
    "class Node:\n",
    "    def __init__(self) -> None:\n",
    "        self.val = 0\n",
    "        self.left = None\n",
    "        self.right = None\n",
    "\n",
    "class heap:\n",
    "    def __init__(self, compare_f) -> None:\n",
    "        self.order = compare_f\n",
    "\n",
    "        self\n",
    "\n",
    "\n",
    "def maxheap():\n",
    "    pass\n",
    "\n",
    "def minheap():\n",
    "    pass\n",
    "        \n",
    "    "
   ]
  },
  {
   "cell_type": "code",
   "execution_count": 2,
   "metadata": {},
   "outputs": [
    {
     "ename": "SyntaxError",
     "evalue": "invalid syntax (2174693623.py, line 7)",
     "output_type": "error",
     "traceback": [
      "\u001b[0;36m  Cell \u001b[0;32mIn[2], line 7\u001b[0;36m\u001b[0m\n\u001b[0;31m    class\u001b[0m\n\u001b[0m          ^\u001b[0m\n\u001b[0;31mSyntaxError\u001b[0m\u001b[0;31m:\u001b[0m invalid syntax\n"
     ]
    }
   ],
   "source": [
    "# 简单的分词路径\n",
    "\n",
    "class Node:\n",
    "    def __init__(self) -> None:\n",
    "        pass\n",
    "\n",
    "class \n",
    "\n",
    "    \n",
    "\n",
    "class Solution:\n",
    "    def wordBreak(self, s: str, wordDict: List[str]) -> bool:"
   ]
  },
  {
   "cell_type": "code",
   "execution_count": 11,
   "metadata": {},
   "outputs": [
    {
     "name": "stdout",
     "output_type": "stream",
     "text": [
      "-1.0\n",
      "[0.70710678 0.70710678] [-0.70710678 -0.70710678]\n",
      "-0.9999999999999998\n"
     ]
    }
   ],
   "source": [
    "import numpy as np\n",
    "a = np.array([1,1], dtype=float)\n",
    "b= np.array([-1, -1], dtype=float)\n",
    "\n",
    "print(np.dot(a,b) / np.sqrt(np.dot(a,a)+np.dot(b,b)))\n",
    "\n",
    "# 先各自norm，然后计算dot\n",
    "an = a / np.linalg.norm(a, ord=2)\n",
    "bn = b / np.linalg.norm(b, ord=2)\n",
    "print(an, bn)\n",
    "\n",
    "print(np.dot(an, bn))"
   ]
  }
 ],
 "metadata": {
  "kernelspec": {
   "display_name": "base",
   "language": "python",
   "name": "python3"
  },
  "language_info": {
   "codemirror_mode": {
    "name": "ipython",
    "version": 3
   },
   "file_extension": ".py",
   "mimetype": "text/x-python",
   "name": "python",
   "nbconvert_exporter": "python",
   "pygments_lexer": "ipython3",
   "version": "3.10.9"
  },
  "orig_nbformat": 4
 },
 "nbformat": 4,
 "nbformat_minor": 2
}
