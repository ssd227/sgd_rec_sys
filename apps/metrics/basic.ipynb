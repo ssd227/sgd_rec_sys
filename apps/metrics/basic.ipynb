{
 "cells": [
  {
   "attachments": {},
   "cell_type": "markdown",
   "metadata": {},
   "source": [
    "## 基本评估指标 \n",
    "acuracy、 precision、recall、f1、"
   ]
  },
  {
   "cell_type": "code",
   "execution_count": 1,
   "metadata": {},
   "outputs": [
    {
     "name": "stdout",
     "output_type": "stream",
     "text": [
      "/playground/sgd_deep_learning/sgd_rec_sys\n"
     ]
    }
   ],
   "source": [
    "%cd /playground/sgd_deep_learning/sgd_rec_sys/\n",
    "import sys \n",
    "sys.path.append('./python')\n"
   ]
  },
  {
   "cell_type": "code",
   "execution_count": 2,
   "metadata": {},
   "outputs": [],
   "source": [
    "import numpy as np\n",
    "from sgd_rec_sys.metrics import accuracy, recall, precision, f1"
   ]
  },
  {
   "cell_type": "code",
   "execution_count": 3,
   "metadata": {},
   "outputs": [],
   "source": [
    "y_hat = np.array([1,0,0,1,1])\n",
    "y = np.array([1,0,1,1,1])"
   ]
  },
  {
   "cell_type": "code",
   "execution_count": 16,
   "metadata": {},
   "outputs": [
    {
     "name": "stdout",
     "output_type": "stream",
     "text": [
      "accuracy = 0.80,\n",
      "recall = 0.75,\n",
      "precision = 1.00,\n",
      "f1 = 0.857\n"
     ]
    }
   ],
   "source": [
    "print(\"accuracy = {:.2f},\\nrecall = {:.2f},\\nprecision = {:.2f},\\nf1 = {:.3f}\".format(\n",
    "    accuracy(y_hat, y),\n",
    "    recall(y_hat, y, 1),\n",
    "    precision(y_hat, y, 1),\n",
    "    f1(y_hat, y, 1)))"
   ]
  }
 ],
 "metadata": {
  "kernelspec": {
   "display_name": "base",
   "language": "python",
   "name": "python3"
  },
  "language_info": {
   "codemirror_mode": {
    "name": "ipython",
    "version": 3
   },
   "file_extension": ".py",
   "mimetype": "text/x-python",
   "name": "python",
   "nbconvert_exporter": "python",
   "pygments_lexer": "ipython3",
   "version": "3.10.9"
  },
  "orig_nbformat": 4
 },
 "nbformat": 4,
 "nbformat_minor": 2
}
