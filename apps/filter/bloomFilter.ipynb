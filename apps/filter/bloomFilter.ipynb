{
 "cells": [
  {
   "attachments": {},
   "cell_type": "markdown",
   "metadata": {},
   "source": [
    "## 布隆过滤器 Bloom Filter\n",
    "\n"
   ]
  },
  {
   "cell_type": "code",
   "execution_count": 6,
   "metadata": {},
   "outputs": [
    {
     "name": "stdout",
     "output_type": "stream",
     "text": [
      "/playground/sgd_deep_learning/sgd_rec_sys\n"
     ]
    }
   ],
   "source": [
    "%cd /playground/sgd_deep_learning/sgd_rec_sys/\n",
    "import sys \n",
    "sys.path.append('./python')\n",
    "from sgd_rec_sys.filter import  BloomFilter"
   ]
  },
  {
   "cell_type": "code",
   "execution_count": 7,
   "metadata": {},
   "outputs": [
    {
     "name": "stdout",
     "output_type": "stream",
     "text": [
      "inner params, m:[13815], hash_func_num:[9], capacity:[1000]\n"
     ]
    }
   ],
   "source": [
    "bf = BloomFilter(n=1000, error_rate=0.001)\n",
    "bf.show_param_log()"
   ]
  },
  {
   "cell_type": "code",
   "execution_count": 8,
   "metadata": {},
   "outputs": [
    {
     "name": "stdout",
     "output_type": "stream",
     "text": [
      "True\n"
     ]
    },
    {
     "data": {
      "text/plain": [
       "False"
      ]
     },
     "execution_count": 8,
     "metadata": {},
     "output_type": "execute_result"
    }
   ],
   "source": [
    "[bf.add(x) for x in range(10)]\n",
    "print(all([x in bf for x in range(10)]))\n",
    "\n",
    "88 in bf"
   ]
  },
  {
   "attachments": {},
   "cell_type": "markdown",
   "metadata": {},
   "source": [
    "## 测试误判概率\n",
    "设定的error rate = 0.001 or (0.1%)"
   ]
  },
  {
   "cell_type": "code",
   "execution_count": 9,
   "metadata": {},
   "outputs": [
    {
     "name": "stdout",
     "output_type": "stream",
     "text": [
      "inner params, m:[137409], hash_func_num:[9], capacity:[9946]\n"
     ]
    }
   ],
   "source": [
    "import random\n",
    "showed = set()\n",
    "unshowed = set()\n",
    "for i in range(int(1e6)):\n",
    "    if random.random() < 0.01: # 广告有1%的几率被展现 \n",
    "        showed.add(i)\n",
    "    else:\n",
    "        unshowed.add(i)\n",
    "\n",
    "bloom_filter = BloomFilter(n=len(showed), error_rate=0.001)\n",
    "bloom_filter.show_param_log()\n",
    "for x in showed:\n",
    "    bloom_filter.add(x)\n"
   ]
  },
  {
   "cell_type": "code",
   "execution_count": 10,
   "metadata": {},
   "outputs": [
    {
     "name": "stdout",
     "output_type": "stream",
     "text": [
      "err_rate:[0.06137443008159151]\n"
     ]
    }
   ],
   "source": [
    "err_num = 0\n",
    "for x in unshowed:\n",
    "    err_num += 1  if x in bloom_filter else 0\n",
    "\n",
    "err_rate = err_num / len(unshowed)\n",
    "print(\"err_rate:[{}]\".format(err_rate))"
   ]
  },
  {
   "attachments": {},
   "cell_type": "markdown",
   "metadata": {},
   "source": [
    "## 比预期的误判率要高不少，难道是hash函数组选的不是很好，导致碰撞概率变大？？ todo"
   ]
  }
 ],
 "metadata": {
  "kernelspec": {
   "display_name": "base",
   "language": "python",
   "name": "python3"
  },
  "language_info": {
   "codemirror_mode": {
    "name": "ipython",
    "version": 3
   },
   "file_extension": ".py",
   "mimetype": "text/x-python",
   "name": "python",
   "nbconvert_exporter": "python",
   "pygments_lexer": "ipython3",
   "version": "3.10.9"
  },
  "orig_nbformat": 4
 },
 "nbformat": 4,
 "nbformat_minor": 2
}
