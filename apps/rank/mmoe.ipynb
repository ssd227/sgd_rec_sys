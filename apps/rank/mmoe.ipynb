{
 "cells": [
  {
   "attachments": {},
   "cell_type": "markdown",
   "metadata": {},
   "source": [
    "## MMOE\n",
    "\n",
    "```\n",
    "实现细节：\n",
    "    * 不考虑embedding layer的模型训练\n",
    "    * FakeMultiTaskDataFactory直接合成concatenation后的数据\n",
    "    * 共四个输出头-TaskHead（点击率，点赞率，收藏率，转发率）\n",
    "    * 每个输出头对应一个TaskGate，用来merge专家输出。\n",
    "    \n",
    "    * Expert 多目标专家模型可以替换成任意fea-cross模型，\n",
    "        专家数量是超参数，这里默认使用MLP。\n",
    "    \n",
    "    * TaskGate中，Softmax输出的𝑛 个数值被mask 的概率都是10%。\n",
    "•       每个“专家”被随机丢弃的概率都是10%。\n",
    "```"
   ]
  },
  {
   "cell_type": "code",
   "execution_count": 1,
   "metadata": {},
   "outputs": [
    {
     "name": "stdout",
     "output_type": "stream",
     "text": [
      "/playground/sgd_deep_learning/sgd_rec_sys\n"
     ]
    }
   ],
   "source": [
    "%cd /playground/sgd_deep_learning/sgd_rec_sys/\n",
    "import sys \n",
    "sys.path.append('./python')"
   ]
  },
  {
   "cell_type": "code",
   "execution_count": 2,
   "metadata": {},
   "outputs": [],
   "source": [
    "import torch\n",
    "from torch import nn\n",
    "from torch.utils.data import DataLoader\n",
    "import torch.optim as optim\n",
    "\n",
    "import pickle\n",
    "import numpy as np\n",
    "\n",
    "from sgd_rec_sys.data import FakeMultiTaskDataFactory, MultiTaskDataset\n",
    "from sgd_rec_sys.rank import MMOE, Expert, TaskHead, TaskGate, CrossEntropyLoss\n"
   ]
  },
  {
   "cell_type": "code",
   "execution_count": 3,
   "metadata": {},
   "outputs": [
    {
     "name": "stdout",
     "output_type": "stream",
     "text": [
      "feature embedding success, shape: (500, 200)\n",
      "targets success, shape: (500, 4)\n"
     ]
    }
   ],
   "source": [
    "## 数据准备 ##\n",
    "\n",
    "# input\n",
    "n_samples = 500 # 总样本数\n",
    "fea_emb_dim = 200\n",
    "target_num = 4\n",
    "\n",
    "## 生成伪CTR数据\n",
    "dump_file = './data/fake/tmp_dssm.pkl'\n",
    "fake_data_factory = FakeMultiTaskDataFactory(n_samples,\n",
    "                                        fea_emb_dim,\n",
    "                                        target_num,\n",
    "                                        dtype=np.float32)\n",
    "fake_data_factory.presist(dump_file)"
   ]
  },
  {
   "cell_type": "code",
   "execution_count": 4,
   "metadata": {},
   "outputs": [
    {
     "name": "stdout",
     "output_type": "stream",
     "text": [
      "device: cuda\n",
      "MMOE(\n",
      "  (experts): ModuleList(\n",
      "    (0-2): 3 x Sequential(\n",
      "      (0): Linear(in_features=200, out_features=1024, bias=True)\n",
      "      (1): ReLU()\n",
      "      (2): Linear(in_features=1024, out_features=256, bias=True)\n",
      "      (3): ReLU()\n",
      "      (4): Linear(in_features=256, out_features=32, bias=True)\n",
      "      (5): ReLU()\n",
      "    )\n",
      "  )\n",
      "  (heads): ModuleList(\n",
      "    (0-3): 4 x Sequential(\n",
      "      (0): Linear(in_features=32, out_features=1, bias=True)\n",
      "      (1): Softmax(dim=None)\n",
      "    )\n",
      "  )\n",
      "  (gates): ModuleList(\n",
      "    (0-3): 4 x Sequential(\n",
      "      (0): Linear(in_features=200, out_features=256, bias=True)\n",
      "      (1): ReLU()\n",
      "      (2): Linear(in_features=256, out_features=3, bias=True)\n",
      "      (3): Softmax(dim=None)\n",
      "      (4): Dropout(p=0.1, inplace=False)\n",
      "    )\n",
      "  )\n",
      ")\n"
     ]
    },
    {
     "name": "stderr",
     "output_type": "stream",
     "text": [
      "/opt/conda/lib/python3.10/site-packages/tqdm/auto.py:22: TqdmWarning: IProgress not found. Please update jupyter and ipywidgets. See https://ipywidgets.readthedocs.io/en/stable/user_install.html\n",
      "  from .autonotebook import tqdm as notebook_tqdm\n"
     ]
    }
   ],
   "source": [
    "## 参数设置 ##\n",
    "device = torch.device(\"cuda\" if torch.cuda.is_available() else \"cpu\")\n",
    "print('device:', device)\n",
    "\n",
    "# 训练参数\n",
    "train_batch_size = 64\n",
    "epochs = 5\n",
    "\n",
    "with open(dump_file,'rb') as f:\n",
    "    fake_data = pickle.load(f)\n",
    "train_ds = MultiTaskDataset(data_info=fake_data, device=device)\n",
    "train_dl = DataLoader(train_ds, batch_size=train_batch_size, shuffle=True)\n",
    "\n",
    "# 网络结构\n",
    "\n",
    "expert_hidden_dims = [1024,256,32] # 包括最后一层\n",
    "gate_hidden_dims = [256] # 不包括最后的输出层 （last_layer+softmax ->p1,p2,p3...)\n",
    "\n",
    "head_in_dim = expert_hidden_dims[-1] # head的输入是baseNN的输出维度\n",
    "head_hidden_dims = [] # []空隐藏层, 输出头默认一层映射 in_dim -> 1 -> sigmoid \n",
    "\n",
    "expert_num = 3 # 三个专家\n",
    "task_num = target_num # 任务数由需要预测的target label决定\n",
    "\n",
    "# 定义模型\n",
    "expert_model_list = nn.ModuleList([Expert(in_dim=fea_emb_dim,\n",
    "                                            hidden_dims = expert_hidden_dims,\n",
    "                                            activation_fun=nn.ReLU())\n",
    "                                    for _ in range(expert_num)])\n",
    "\n",
    "# 每个task分配一个对立的gate control\n",
    "gate_list = nn.ModuleList([TaskGate(in_dim=fea_emb_dim, \n",
    "                                         hidden_dims=gate_hidden_dims, \n",
    "                                         expert_num= expert_num, \n",
    "                                         activation_fun=nn.ReLU(), \n",
    "                                         dropout_p=0.1) # 10%专家丢弃率防止极化\n",
    "                                for _ in range(task_num)])\n",
    "\n",
    "# 一共四个输出头，new OutputHead 共生成四个对象，不共享\n",
    "head_list = nn.ModuleList([TaskHead(in_dim=head_in_dim,\n",
    "                                        hidden_dims = head_hidden_dims,\n",
    "                                        activation_fun=nn.ReLU())\n",
    "                                for _ in range(task_num)])\n",
    "\n",
    "model = MMOE(expert_nets=expert_model_list, \n",
    "             heads_nets=head_list,\n",
    "             gate_nets=gate_list).to(device)\n",
    "\n",
    "print(model)\n",
    "\n",
    "criterion = CrossEntropyLoss()\n",
    "optimizer = optim.SGD(model.parameters(), lr=0.01)  # SGD 优化器\n",
    "# optimizer = torch.optim.Adam(model.parameters(), lr=1e-1, weight_decay=0.3)"
   ]
  },
  {
   "cell_type": "code",
   "execution_count": 5,
   "metadata": {},
   "outputs": [
    {
     "name": "stderr",
     "output_type": "stream",
     "text": [
      "/opt/conda/lib/python3.10/site-packages/torch/nn/modules/module.py:1518: UserWarning: Implicit dimension choice for softmax has been deprecated. Change the call to include dim=X as an argument.\n",
      "  return self._call_impl(*args, **kwargs)\n"
     ]
    },
    {
     "name": "stdout",
     "output_type": "stream",
     "text": [
      "Epoch [1/5], Loss: 211.5385\n",
      "Epoch [2/5], Loss: 180.7692\n",
      "Epoch [3/5], Loss: 178.8462\n",
      "Epoch [4/5], Loss: 180.7692\n",
      "Epoch [5/5], Loss: 215.3846\n"
     ]
    }
   ],
   "source": [
    "## 训练 ##\n",
    "def train(dataloader, model, epochs=1,):\n",
    "    for epoch in range(epochs):\n",
    "        for x in dataloader:\n",
    "            fea_embs, targets = x\n",
    "            # 前向传播\n",
    "            output = model(fea_embs)\n",
    "            loss = criterion(output, targets)\n",
    "        \n",
    "        # 反向传播和优化\n",
    "        optimizer.zero_grad()\n",
    "        loss.backward()\n",
    "        optimizer.step()\n",
    "        \n",
    "        # log\n",
    "        print(f'Epoch [{epoch+1}/{epochs}], Loss: {loss.item():.4f}')\n",
    "            \n",
    "train(train_dl, model, epochs)"
   ]
  }
 ],
 "metadata": {
  "kernelspec": {
   "display_name": "base",
   "language": "python",
   "name": "python3"
  },
  "language_info": {
   "codemirror_mode": {
    "name": "ipython",
    "version": 3
   },
   "file_extension": ".py",
   "mimetype": "text/x-python",
   "name": "python",
   "nbconvert_exporter": "python",
   "pygments_lexer": "ipython3",
   "version": "3.10.9"
  },
  "orig_nbformat": 4
 },
 "nbformat": 4,
 "nbformat_minor": 2
}
