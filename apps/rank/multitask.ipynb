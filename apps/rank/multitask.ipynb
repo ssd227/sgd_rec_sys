{
 "cells": [
  {
   "attachments": {},
   "cell_type": "markdown",
   "metadata": {},
   "source": [
    "## 多目标rank模型\n",
    "\n",
    "```\n",
    "实现过程：\n",
    "    * 不考虑embedding layer的模型训练\n",
    "    * FakeMultiTaskDataFactory直接合成concatenation后的数据\n",
    "    * 一共有四个输出头（点击率，点赞率，收藏率，转发率）\n",
    "    \n",
    "    * BaseNN 多目标基座可以替换成任意fea-cross模型\n",
    "        * 这里默认使用MLP\n",
    "    * 输出头的NN结构同理\n",
    "```"
   ]
  },
  {
   "cell_type": "code",
   "execution_count": 1,
   "metadata": {},
   "outputs": [
    {
     "name": "stdout",
     "output_type": "stream",
     "text": [
      "/playground/sgd_deep_learning/sgd_rec_sys\n"
     ]
    }
   ],
   "source": [
    "%cd /playground/sgd_deep_learning/sgd_rec_sys/\n",
    "import sys \n",
    "sys.path.append('./python')"
   ]
  },
  {
   "cell_type": "code",
   "execution_count": 2,
   "metadata": {},
   "outputs": [],
   "source": [
    "import torch\n",
    "from torch import nn\n",
    "from torch.utils.data import DataLoader\n",
    "import torch.optim as optim\n",
    "\n",
    "import pickle\n",
    "import numpy as np\n",
    "\n",
    "from sgd_rec_sys.data import FakeMultiTaskDataFactory, MultiTaskDataset\n",
    "from sgd_rec_sys.rank import OutputHead, BaseNN, MultiTaskNet, CrossEntropyLoss\n"
   ]
  },
  {
   "cell_type": "code",
   "execution_count": 3,
   "metadata": {},
   "outputs": [
    {
     "name": "stdout",
     "output_type": "stream",
     "text": [
      "feature embedding success, shape: (500, 200)\n",
      "targets success, shape: (500, 4)\n"
     ]
    }
   ],
   "source": [
    "## 数据准备 ##\n",
    "\n",
    "# input\n",
    "n_samples = 500 # 总样本数\n",
    "fea_emb_dim = 200\n",
    "target_num = 4\n",
    "\n",
    "## 生成伪CTR数据\n",
    "dump_file = './data/fake/tmp_dssm.pkl'\n",
    "fake_data_factory = FakeMultiTaskDataFactory(n_samples,\n",
    "                                        fea_emb_dim,\n",
    "                                        target_num,\n",
    "                                        dtype=np.float32)\n",
    "fake_data_factory.presist(dump_file)"
   ]
  },
  {
   "cell_type": "code",
   "execution_count": 4,
   "metadata": {},
   "outputs": [
    {
     "name": "stdout",
     "output_type": "stream",
     "text": [
      "device: cuda\n",
      "MultiTaskNet(\n",
      "  (base): Sequential(\n",
      "    (0): Linear(in_features=200, out_features=1024, bias=True)\n",
      "    (1): ReLU()\n",
      "    (2): Linear(in_features=1024, out_features=256, bias=True)\n",
      "    (3): ReLU()\n",
      "    (4): Linear(in_features=256, out_features=32, bias=True)\n",
      "    (5): ReLU()\n",
      "  )\n",
      "  (heads): ModuleList(\n",
      "    (0-3): 4 x Sequential(\n",
      "      (0): Linear(in_features=32, out_features=1, bias=True)\n",
      "      (1): Softmax(dim=None)\n",
      "    )\n",
      "  )\n",
      ")\n"
     ]
    },
    {
     "name": "stderr",
     "output_type": "stream",
     "text": [
      "/opt/conda/lib/python3.10/site-packages/tqdm/auto.py:22: TqdmWarning: IProgress not found. Please update jupyter and ipywidgets. See https://ipywidgets.readthedocs.io/en/stable/user_install.html\n",
      "  from .autonotebook import tqdm as notebook_tqdm\n"
     ]
    }
   ],
   "source": [
    "## 参数设置 ##\n",
    "device = torch.device(\"cuda\" if torch.cuda.is_available() else \"cpu\")\n",
    "print('device:', device)\n",
    "\n",
    "# 训练参数\n",
    "train_batch_size = 64\n",
    "epochs = 5\n",
    "\n",
    "with open(dump_file,'rb') as f:\n",
    "    fake_data = pickle.load(f)\n",
    "train_ds = MultiTaskDataset(data_info=fake_data, device=device)\n",
    "train_dl = DataLoader(train_ds, batch_size=train_batch_size, shuffle=True)\n",
    "\n",
    "# 网络结构\n",
    "base_hidden_dims = [1024,256,32]\n",
    "head_in_dim = base_hidden_dims[-1] # head的输入是baseNN的输出维度\n",
    "head_hidden_dims = [] # []空隐藏层, 输出头默认一层映射 in_dim -> 1 -> sigmoid \n",
    "head_num = target_num # 四个多目标输出\n",
    "\n",
    "# 定义模型\n",
    "base_model = BaseNN(in_dim=fea_emb_dim,\n",
    "                    hidden_dims = base_hidden_dims,\n",
    "                    activation_fun=nn.ReLU())\n",
    "\n",
    "# 一共四个输出头，new OutputHead 共生成四个对象，不共享\n",
    "output_heads = nn.ModuleList([OutputHead(in_dim=head_in_dim,\n",
    "                                        hidden_dims = head_hidden_dims, # 默认追加->1映射，所以可以为[] \n",
    "                                        activation_fun=nn.ReLU())\n",
    "                            for _ in range(head_num)])\n",
    "\n",
    "model = MultiTaskNet(basenet=base_model,\n",
    "                     heads=output_heads).to(device)\n",
    "\n",
    "print(model)\n",
    "\n",
    "criterion = CrossEntropyLoss()\n",
    "optimizer = optim.SGD(model.parameters(), lr=0.01)  # SGD 优化器\n",
    "# optimizer = torch.optim.Adam(model.parameters(), lr=1e-1, weight_decay=0.3)"
   ]
  },
  {
   "cell_type": "code",
   "execution_count": 5,
   "metadata": {},
   "outputs": [
    {
     "name": "stderr",
     "output_type": "stream",
     "text": [
      "/opt/conda/lib/python3.10/site-packages/torch/nn/modules/module.py:1518: UserWarning: Implicit dimension choice for softmax has been deprecated. Change the call to include dim=X as an argument.\n",
      "  return self._call_impl(*args, **kwargs)\n"
     ]
    },
    {
     "name": "stdout",
     "output_type": "stream",
     "text": [
      "Epoch [1/5], Loss: 192.3077\n",
      "Epoch [2/5], Loss: 192.3077\n",
      "Epoch [3/5], Loss: 198.0769\n",
      "Epoch [4/5], Loss: 196.1539\n",
      "Epoch [5/5], Loss: 188.4615\n"
     ]
    }
   ],
   "source": [
    "## 训练 ##\n",
    "def train(dataloader, model, epochs=1,):\n",
    "    for epoch in range(epochs):\n",
    "        for x in dataloader:\n",
    "            fea_embs, targets = x\n",
    "            # 前向传播\n",
    "            output = model(fea_embs)\n",
    "            loss = criterion(output, targets)\n",
    "        \n",
    "        # 反向传播和优化\n",
    "        optimizer.zero_grad()\n",
    "        loss.backward()\n",
    "        optimizer.step()\n",
    "        \n",
    "        # log\n",
    "        print(f'Epoch [{epoch+1}/{epochs}], Loss: {loss.item():.4f}')\n",
    "            \n",
    "train(train_dl, model, epochs)"
   ]
  }
 ],
 "metadata": {
  "kernelspec": {
   "display_name": "base",
   "language": "python",
   "name": "python3"
  },
  "language_info": {
   "codemirror_mode": {
    "name": "ipython",
    "version": 3
   },
   "file_extension": ".py",
   "mimetype": "text/x-python",
   "name": "python",
   "nbconvert_exporter": "python",
   "pygments_lexer": "ipython3",
   "version": "3.10.9"
  },
  "orig_nbformat": 4
 },
 "nbformat": 4,
 "nbformat_minor": 2
}
