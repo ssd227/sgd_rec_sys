{
 "cells": [
  {
   "attachments": {},
   "cell_type": "markdown",
   "metadata": {},
   "source": [
    "# Deep FM\n",
    "\n",
    "个人理解版"
   ]
  },
  {
   "cell_type": "code",
   "execution_count": 1,
   "metadata": {},
   "outputs": [
    {
     "name": "stdout",
     "output_type": "stream",
     "text": [
      "/playground/sgd_deep_learning/sgd_rec_sys\n"
     ]
    }
   ],
   "source": [
    "%cd /playground/sgd_deep_learning/sgd_rec_sys/\n",
    "import sys\n",
    "sys.path.append('./python')"
   ]
  },
  {
   "cell_type": "code",
   "execution_count": 2,
   "metadata": {},
   "outputs": [],
   "source": [
    "import torch\n",
    "from torch import nn\n",
    "from torch.utils.data import DataLoader\n",
    "import torch.optim as optim\n",
    "\n",
    "import pickle\n",
    "import numpy as np\n",
    "\n",
    "from sgd_rec_sys.cross import DeepFM\n",
    "from sgd_rec_sys.data import FakeCtrDataFactory, CtrDataset, ctr_collate_fn"
   ]
  },
  {
   "attachments": {},
   "cell_type": "markdown",
   "metadata": {},
   "source": [
    "## CTR fake data生成"
   ]
  },
  {
   "cell_type": "code",
   "execution_count": 3,
   "metadata": {},
   "outputs": [
    {
     "name": "stdout",
     "output_type": "stream",
     "text": [
      "densed feas success, shape: (1000, 5)\n",
      "one-hot feas success, shape: (1000, 4)\n",
      "multi-hot feas success\n",
      "label success, shape: (1000,)\n"
     ]
    }
   ],
   "source": [
    "# input\n",
    "n_samples = 1000 # 总样本数\n",
    "n_dense_fea = 5 # real-value 特征数量\n",
    "embedding_dim = K = 32 # fibinet所有特征维度固定，统一为设为K\n",
    "\n",
    "one_hot_fea_list = [100, 34, 42, 10] # 4个fea, 字典大小分别为100，34，42，10\n",
    "multi_hot_fea_list = [10, 20, 30] # 3个fea，字典大小分别为10，20，30\n",
    "\n",
    "fields_num = F = len(one_hot_fea_list) + len(multi_hot_fea_list) # 离散总特征数\n",
    "fields_dim = int(F*K) #离散特征总编码维度\n",
    "\n",
    "deep_net_in_dim = n_dense_fea + fields_dim # DeepNet输入维度（连续特征+离散特征）\n",
    "\n",
    "## 生成伪CTR数据\n",
    "dump_file = './data/fake/tmp.pkl'\n",
    "fake_data_factory = FakeCtrDataFactory(n_samples,\n",
    "                                    n_dense_fea,\n",
    "                                    one_hot_fea_list,\n",
    "                                    multi_hot_fea_list,\n",
    "                                    dtype=np.float32)\n",
    "fake_data_factory.presist(dump_file)"
   ]
  },
  {
   "attachments": {},
   "cell_type": "markdown",
   "metadata": {},
   "source": [
    "## 参数设置"
   ]
  },
  {
   "cell_type": "code",
   "execution_count": 4,
   "metadata": {},
   "outputs": [
    {
     "name": "stdout",
     "output_type": "stream",
     "text": [
      "device: cuda\n"
     ]
    },
    {
     "name": "stderr",
     "output_type": "stream",
     "text": [
      "/opt/conda/lib/python3.10/site-packages/tqdm/auto.py:22: TqdmWarning: IProgress not found. Please update jupyter and ipywidgets. See https://ipywidgets.readthedocs.io/en/stable/user_install.html\n",
      "  from .autonotebook import tqdm as notebook_tqdm\n"
     ]
    }
   ],
   "source": [
    "device = torch.device(\"cuda\" if torch.cuda.is_available() else \"cpu\")\n",
    "print('device:', device)\n",
    "\n",
    "# 训练参数\n",
    "train_batch_size = 64\n",
    "epochs = 5\n",
    "\n",
    "with open(dump_file,'rb') as f:\n",
    "    fake_data = pickle.load(f)\n",
    "train_ds = CtrDataset(fake_data)\n",
    "train_dl = DataLoader(train_ds, batch_size=train_batch_size, shuffle=True, collate_fn=ctr_collate_fn(device))\n",
    "\n",
    "# 网络结构\n",
    "cross_order = 4 # cross net 四层交叉层\n",
    "hidden_dims = [deep_net_in_dim*2, 1024, 256] # deep net 不包括分类层\n",
    "\n",
    "# 定义模型\n",
    "model = DeepFM(deep_net_in_dim,\n",
    "               embedding_dim, # fibinet所有特征维度固定，统一为设为K\n",
    "                hidden_dims,\n",
    "                one_hot_fea_list,\n",
    "                multi_hot_fea_list,).to(device)\n",
    "\n",
    "criterion = nn.BCELoss()  # 二分类交叉熵损失函数\n",
    "optimizer = optim.SGD(model.parameters(), lr=0.01)  # SGD 优化器\n",
    "# optimizer = torch.optim.Adam(model.parameters(), lr=1e-1, weight_decay=0.3)\n"
   ]
  },
  {
   "attachments": {},
   "cell_type": "markdown",
   "metadata": {},
   "source": [
    "## training"
   ]
  },
  {
   "cell_type": "code",
   "execution_count": 5,
   "metadata": {},
   "outputs": [
    {
     "name": "stdout",
     "output_type": "stream",
     "text": [
      "Epoch [1/5], Loss: 33.2874\n",
      "Epoch [2/5], Loss: 23.6191\n",
      "Epoch [3/5], Loss: 22.1313\n",
      "Epoch [4/5], Loss: 29.3000\n",
      "Epoch [5/5], Loss: 18.9311\n"
     ]
    }
   ],
   "source": [
    "def train(dataloader, model, epochs=1,):\n",
    "    for epoch in range(epochs):\n",
    "        for x in dataloader:\n",
    "            y, dense_x, one_hot_x, multi_hot_x = x\n",
    "            # 前向传播\n",
    "            outputs = model((dense_x, one_hot_x, multi_hot_x))\n",
    "            loss = criterion(outputs, y.reshape(-1,1))\n",
    "        \n",
    "        # 反向传播和优化\n",
    "        optimizer.zero_grad()\n",
    "        loss.backward()\n",
    "        optimizer.step()\n",
    "        \n",
    "        # log\n",
    "        print(f'Epoch [{epoch+1}/{epochs}], Loss: {loss.item():.4f}')\n",
    "            \n",
    "train(train_dl, model, epochs)"
   ]
  }
 ],
 "metadata": {
  "kernelspec": {
   "display_name": "base",
   "language": "python",
   "name": "python3"
  },
  "language_info": {
   "codemirror_mode": {
    "name": "ipython",
    "version": 3
   },
   "file_extension": ".py",
   "mimetype": "text/x-python",
   "name": "python",
   "nbconvert_exporter": "python",
   "pygments_lexer": "ipython3",
   "version": "3.10.9"
  },
  "orig_nbformat": 4
 },
 "nbformat": 4,
 "nbformat_minor": 2
}
