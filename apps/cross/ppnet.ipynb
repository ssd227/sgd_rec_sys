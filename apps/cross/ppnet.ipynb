{
 "cells": [
  {
   "attachments": {},
   "cell_type": "markdown",
   "metadata": {},
   "source": [
    "PPNet\n",
    "\n",
    "下述流程，暂不考虑连续特征\n",
    "- 假设所有连续特征都做了离散化处理\n",
    "- 实现细节diff参考模型文件注释"
   ]
  },
  {
   "cell_type": "code",
   "execution_count": 1,
   "metadata": {},
   "outputs": [
    {
     "name": "stdout",
     "output_type": "stream",
     "text": [
      "/playground/sgd_deep_learning/sgd_rec_sys\n"
     ]
    }
   ],
   "source": [
    "%cd /playground/sgd_deep_learning/sgd_rec_sys/\n",
    "import sys\n",
    "sys.path.append('./python')"
   ]
  },
  {
   "cell_type": "code",
   "execution_count": 2,
   "metadata": {},
   "outputs": [],
   "source": [
    "import torch\n",
    "from torch import nn\n",
    "from torch.utils.data import DataLoader\n",
    "import torch.optim as optim\n",
    "\n",
    "import pickle\n",
    "import numpy as np\n",
    "\n",
    "from sgd_rec_sys.cross import PPNet\n",
    "from sgd_rec_sys.data import FakeCtrDataFactory, CtrDataset011, ctr_collate_fn_011 # 只处理离散特征"
   ]
  },
  {
   "attachments": {},
   "cell_type": "markdown",
   "metadata": {},
   "source": [
    "## CTR fake data生成\n",
    "```\n",
    " multi-hot的最大采样数可以在FakeCtrDataFactory中设置，默认为4\n",
    "    def make_multi_hot_fea(self, n_samples, fea_list, max_len=4):\n",
    "        ...\n",
    "```"
   ]
  },
  {
   "cell_type": "code",
   "execution_count": 3,
   "metadata": {},
   "outputs": [
    {
     "name": "stdout",
     "output_type": "stream",
     "text": [
      "one-hot feas success, shape: (1000, 6)\n",
      "multi-hot feas success\n",
      "label success, shape: (1000,)\n"
     ]
    }
   ],
   "source": [
    "# input\n",
    "n_samples = 1000 # 总样本数\n",
    "n_dense_fea = 0 # 0 不生成连续数据\n",
    "K = 16\n",
    "\n",
    "# uid、pid、aid + 3个其他特征, 字典大小分别为100,100,100, 60,34,42\n",
    "one_hot_fea_list = [100, 100, 100, 60, 34, 42]\n",
    "one_hot_fea_emb_dim = [K] * len(one_hot_fea_list) # fea可设置不同编码维度\n",
    "\n",
    "multi_hot_fea_list = [10, 20, 30] # 3个fea，字典大小分别为10，20，30\n",
    "multi_hot_fea_emb_dim = [K] * len(multi_hot_fea_list) # fea可设置不同编码维度\n",
    "\n",
    "left_emb_dim = sum(one_hot_fea_emb_dim[3:]) + sum(multi_hot_fea_emb_dim)\n",
    "\n",
    "## 生成伪CTR数据\n",
    "dump_file = './data/fake/tmp.pkl'\n",
    "fake_data_factory = FakeCtrDataFactory(n_samples,\n",
    "                                    n_dense_fea,\n",
    "                                    one_hot_fea_list,\n",
    "                                    multi_hot_fea_list,\n",
    "                                    dtype=np.float32)\n",
    "fake_data_factory.presist(dump_file)"
   ]
  },
  {
   "attachments": {},
   "cell_type": "markdown",
   "metadata": {},
   "source": [
    "## 参数设置"
   ]
  },
  {
   "cell_type": "code",
   "execution_count": 4,
   "metadata": {},
   "outputs": [
    {
     "name": "stdout",
     "output_type": "stream",
     "text": [
      "device: cuda\n"
     ]
    },
    {
     "name": "stderr",
     "output_type": "stream",
     "text": [
      "/opt/conda/lib/python3.10/site-packages/tqdm/auto.py:22: TqdmWarning: IProgress not found. Please update jupyter and ipywidgets. See https://ipywidgets.readthedocs.io/en/stable/user_install.html\n",
      "  from .autonotebook import tqdm as notebook_tqdm\n"
     ]
    }
   ],
   "source": [
    "device = torch.device(\"cuda\" if torch.cuda.is_available() else \"cpu\")\n",
    "print('device:', device)\n",
    "\n",
    "# 训练参数\n",
    "train_batch_size = 64\n",
    "epochs = 5\n",
    "\n",
    "with open(dump_file,'rb') as f:\n",
    "    fake_data = pickle.load(f)\n",
    "train_ds = CtrDataset011(fake_data)\n",
    "train_dl = DataLoader(train_ds, batch_size=train_batch_size, shuffle=True, collate_fn=ctr_collate_fn_011(device))\n",
    "\n",
    "# 网络结构\n",
    "tower_hidden_dims = [left_emb_dim*2, 1024, 256] # deep net 不包括分类层\n",
    "reduction_ratio = 2 # senet中，类似autoencoder中间表示维度 = input_dim/reduction_ratio\n",
    "\n",
    "# 定义模型\n",
    "model = PPNet(tower_hidden_dims, # 保证左右塔相同，右塔单独做condition操作\n",
    "                 one_hot_fea_list,\n",
    "                 one_hot_fea_emb_dim,\n",
    "                 multi_hot_fea_list,    # 每个特征的字典容量\n",
    "                 multi_hot_fea_emb_dim, # 每个特征的编码维度\n",
    "                ).to(device)\n",
    "\n",
    "criterion = nn.BCELoss()  # 二分类交叉熵损失函数\n",
    "optimizer = optim.SGD(model.parameters(), lr=0.01)  # SGD 优化器\n",
    "# optimizer = torch.optim.Adam(model.parameters(), lr=1e-1, weight_decay=0.3)\n"
   ]
  },
  {
   "attachments": {},
   "cell_type": "markdown",
   "metadata": {},
   "source": [
    "## training"
   ]
  },
  {
   "cell_type": "code",
   "execution_count": 5,
   "metadata": {},
   "outputs": [
    {
     "name": "stdout",
     "output_type": "stream",
     "text": [
      "Epoch [1/5], Loss: 0.6937\n",
      "Epoch [2/5], Loss: 0.6934\n",
      "Epoch [3/5], Loss: 0.6944\n",
      "Epoch [4/5], Loss: 0.6952\n",
      "Epoch [5/5], Loss: 0.6951\n"
     ]
    }
   ],
   "source": [
    "def train(dataloader, model, epochs=1,):\n",
    "    for epoch in range(epochs):\n",
    "        for x in dataloader:\n",
    "            y, one_hot_x, multi_hot_x = x\n",
    "            # 前向传播\n",
    "            outputs = model((one_hot_x, multi_hot_x))\n",
    "            loss = criterion(outputs, y.reshape(-1,1))\n",
    "        \n",
    "        # 反向传播和优化\n",
    "        optimizer.zero_grad()\n",
    "        loss.backward()\n",
    "        optimizer.step()\n",
    "        \n",
    "        # log\n",
    "        print(f'Epoch [{epoch+1}/{epochs}], Loss: {loss.item():.4f}')\n",
    "            \n",
    "train(train_dl, model, epochs)"
   ]
  }
 ],
 "metadata": {
  "kernelspec": {
   "display_name": "base",
   "language": "python",
   "name": "python3"
  },
  "language_info": {
   "codemirror_mode": {
    "name": "ipython",
    "version": 3
   },
   "file_extension": ".py",
   "mimetype": "text/x-python",
   "name": "python",
   "nbconvert_exporter": "python",
   "pygments_lexer": "ipython3",
   "version": "3.10.9"
  },
  "orig_nbformat": 4
 },
 "nbformat": 4,
 "nbformat_minor": 2
}
