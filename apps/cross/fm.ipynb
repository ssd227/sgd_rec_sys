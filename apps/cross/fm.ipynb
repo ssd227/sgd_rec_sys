{
 "cells": [
  {
   "attachments": {},
   "cell_type": "markdown",
   "metadata": {},
   "source": [
    "# FM(Factor Machine) 因子分解机\n",
    "\n",
    "备注\n",
    "- 算力不足时代的产物。工业界召回、排序都不用了\n",
    "- 实现只有学习上的意义"
   ]
  },
  {
   "cell_type": "code",
   "execution_count": 1,
   "metadata": {},
   "outputs": [
    {
     "name": "stdout",
     "output_type": "stream",
     "text": [
      "/playground/sgd_deep_learning/sgd_rec_sys\n"
     ]
    }
   ],
   "source": [
    "%cd /playground/sgd_deep_learning/sgd_rec_sys/\n",
    "import sys \n",
    "sys.path.append('./python')"
   ]
  },
  {
   "cell_type": "code",
   "execution_count": 2,
   "metadata": {},
   "outputs": [],
   "source": [
    "import numpy as np\n",
    "import random\n",
    "from sgd_rec_sys.cross import FM\n",
    "import torch"
   ]
  },
  {
   "attachments": {},
   "cell_type": "markdown",
   "metadata": {},
   "source": [
    "### FM模型训练\n",
    "\n",
    "这一部分仅使用随机生成的训练集（100样本）跑了FM的流程，没有实际上的意义。"
   ]
  },
  {
   "cell_type": "code",
   "execution_count": 3,
   "metadata": {},
   "outputs": [
    {
     "name": "stderr",
     "output_type": "stream",
     "text": [
      "/opt/conda/lib/python3.10/site-packages/tqdm/auto.py:22: TqdmWarning: IProgress not found. Please update jupyter and ipywidgets. See https://ipywidgets.readthedocs.io/en/stable/user_install.html\n",
      "  from .autonotebook import tqdm as notebook_tqdm\n"
     ]
    },
    {
     "name": "stdout",
     "output_type": "stream",
     "text": [
      "epoch:0 loss:0.490\n",
      "epoch:1 loss:0.490\n",
      "epoch:2 loss:0.490\n",
      "epoch:3 loss:0.480\n",
      "epoch:4 loss:0.480\n"
     ]
    }
   ],
   "source": [
    "def train():\n",
    "    # fake data\n",
    "    features = torch.randn(100, 10) * 100\n",
    "    targets = torch.randint(0, 2, (100, 1), requires_grad=False) # ctr label [0, 1]\n",
    "\n",
    "    B,F = features.shape # batch_size, field num (field为bitwise)\n",
    "    K = 5 # 根据F的数量调整，FM二阶项把参数从FF下降到FK\n",
    "     \n",
    "    # core\n",
    "    model = FM(in_dim=F, emb_dim=K)\n",
    "    optimizer = torch.optim.Adam(model.parameters(), lr=0.001, weight_decay=0.1)\n",
    "\n",
    "    for epoch in range(5):\n",
    "        y = model.forward(features)\n",
    "        loss = torch.sum(targets * y + (1 - targets) * (1 - y)) / len(targets)\n",
    "\n",
    "        # Backpropagation\n",
    "        optimizer.zero_grad()\n",
    "        loss.backward()\n",
    "        optimizer.step()\n",
    "\n",
    "        print('epoch:{} loss:{:.3f}'.format(epoch, loss.item()))\n",
    "            \n",
    "train()"
   ]
  }
 ],
 "metadata": {
  "kernelspec": {
   "display_name": "base",
   "language": "python",
   "name": "python3"
  },
  "language_info": {
   "codemirror_mode": {
    "name": "ipython",
    "version": 3
   },
   "file_extension": ".py",
   "mimetype": "text/x-python",
   "name": "python",
   "nbconvert_exporter": "python",
   "pygments_lexer": "ipython3",
   "version": "3.10.9"
  },
  "orig_nbformat": 4
 },
 "nbformat": 4,
 "nbformat_minor": 2
}
