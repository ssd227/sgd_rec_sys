{
 "cells": [
  {
   "attachments": {},
   "cell_type": "markdown",
   "metadata": {},
   "source": [
    "## 基于user的协同过滤\n",
    "UserCF的基本思想：\n",
    "* 如果⽤户𝑢𝑠𝑒𝑟1 跟⽤户𝑢𝑠𝑒𝑟2 相似，⽽且𝑢𝑠𝑒𝑟2喜欢某物品，\n",
    "* 那么⽤户𝑢𝑠𝑒𝑟2也很可能喜欢该物品。\n",
    "\n",
    "\n",
    "优点\n",
    "* 每个人的兴趣点都很广泛，usercf可以快速的给每个用户发散出不同的兴趣点，比如热点新闻的推荐。"
   ]
  },
  {
   "cell_type": "code",
   "execution_count": 1,
   "metadata": {},
   "outputs": [
    {
     "name": "stdout",
     "output_type": "stream",
     "text": [
      "/playground/sgd_deep_learning/sgd_rec_sys\n"
     ]
    }
   ],
   "source": [
    "%cd /playground/sgd_deep_learning/sgd_rec_sys/\n",
    "import sys \n",
    "sys.path.append('./python')"
   ]
  },
  {
   "cell_type": "code",
   "execution_count": 2,
   "metadata": {},
   "outputs": [],
   "source": [
    "import numpy as np\n",
    "import random\n",
    "from sgd_rec_sys.retrieval import UserCF, RateInfo"
   ]
  },
  {
   "attachments": {},
   "cell_type": "markdown",
   "metadata": {},
   "source": [
    "## rate_info\n",
    "\n",
    "* 从文件中读取用户、物品的meta info（比如id-name的映射关系）\n",
    "* 读取用户历史评分文件，针对不同算法整理对应数据\n",
    "  * itemcf：需要每个物品 对应的 用户评价list\n",
    "  * usercf：需要每个用户 评价过的 所有物品的list"
   ]
  },
  {
   "cell_type": "code",
   "execution_count": 3,
   "metadata": {},
   "outputs": [],
   "source": [
    "rate_info = RateInfo(user_file='./data/retrieval/user2id.txt',\n",
    "                     item_file='./data/retrieval/item2id.txt',\n",
    "                    rate_file='./data/retrieval/userid_itemid_rate.txt')"
   ]
  },
  {
   "cell_type": "code",
   "execution_count": 4,
   "metadata": {},
   "outputs": [
    {
     "data": {
      "text/plain": [
       "{'col_name': ['user_id', 'user_name'],\n",
       " 'id2name': {1: 'A', 2: 'B', 3: 'C', 4: 'D', 5: 'E'},\n",
       " 'name2id': {'A': 1, 'B': 2, 'C': 3, 'D': 4, 'E': 5}}"
      ]
     },
     "execution_count": 4,
     "metadata": {},
     "output_type": "execute_result"
    }
   ],
   "source": [
    "# 用户侧信息\n",
    "rate_info.user_meta_info()"
   ]
  },
  {
   "cell_type": "code",
   "execution_count": 5,
   "metadata": {},
   "outputs": [
    {
     "data": {
      "text/plain": [
       "{'col_name': ['item_id', 'item_name'],\n",
       " 'id2name': {1: 'story_book', 2: 'magazine', 3: 'tv', 4: 'ps4'},\n",
       " 'name2id': {'story_book': 1, 'magazine': 2, 'tv': 3, 'ps4': 4}}"
      ]
     },
     "execution_count": 5,
     "metadata": {},
     "output_type": "execute_result"
    }
   ],
   "source": [
    "# 物品侧信息\n",
    "rate_info.item_meta_info()"
   ]
  },
  {
   "cell_type": "code",
   "execution_count": 6,
   "metadata": {},
   "outputs": [
    {
     "data": {
      "text/plain": [
       "{'col_name': ['userid', 'itemid', 'rate'],\n",
       " 'rate_pairs': [[1, 1, 1],\n",
       "  [1, 2, -1],\n",
       "  [1, 3, 1],\n",
       "  [1, 4, 1],\n",
       "  [2, 2, 1],\n",
       "  [2, 3, -1],\n",
       "  [2, 4, -1],\n",
       "  [3, 1, 1],\n",
       "  [3, 2, 1],\n",
       "  [3, 3, -1],\n",
       "  [4, 1, -1],\n",
       "  [4, 3, 1],\n",
       "  [5, 1, 1],\n",
       "  [5, 2, 1],\n",
       "  [5, 4, -1]]}"
      ]
     },
     "execution_count": 6,
     "metadata": {},
     "output_type": "execute_result"
    }
   ],
   "source": [
    "#  rate 信息\n",
    "rate_info.rate_meta_info()"
   ]
  },
  {
   "attachments": {},
   "cell_type": "markdown",
   "metadata": {},
   "source": [
    "## UserCF"
   ]
  },
  {
   "cell_type": "code",
   "execution_count": 15,
   "metadata": {},
   "outputs": [
    {
     "name": "stdout",
     "output_type": "stream",
     "text": [
      "all user ids: [1, 2, 3, 4, 5]\n",
      "{1: 'A', 2: 'B', 3: 'C', 4: 'D', 5: 'E'}\n",
      "\n",
      "sim score of 1-1 : 1.00\n",
      "sim score of 1-2 : -0.87\n",
      "sim score of 1-3 : -0.29\n",
      "sim score of 1-4 : 0.00\n",
      "sim score of 1-5 : -0.29\n",
      "sim score of 2-2 : 1.00\n",
      "sim score of 2-3 : 0.67\n",
      "sim score of 2-4 : -0.41\n",
      "sim score of 2-5 : 0.67\n",
      "sim score of 3-3 : 1.00\n",
      "sim score of 3-4 : -0.82\n",
      "sim score of 3-5 : 0.67\n",
      "sim score of 4-4 : 1.00\n",
      "sim score of 4-5 : -0.41\n"
     ]
    }
   ],
   "source": [
    "usercf = UserCF(meta_info=rate_info)\n",
    "\n",
    "user_info = rate_info.user_meta_info()\n",
    "uids = list(user_info['id2name'].keys())\n",
    "print(\"all user ids:\", uids)\n",
    "print(user_info['id2name'])\n",
    "print()\n",
    "\n",
    "# 计算两两物品间的cos sim (耗时操作可离线计算)\n",
    "for i in range(len(uids)-1):\n",
    "    for j in range(i, len(uids)):\n",
    "        id1, id2 = uids[i], uids[j]\n",
    "        print(\"sim score of {}-{} : {:.2f}\".format(id1, id2, usercf.sim(id1, id2)))"
   ]
  },
  {
   "cell_type": "code",
   "execution_count": 19,
   "metadata": {},
   "outputs": [
    {
     "name": "stdout",
     "output_type": "stream",
     "text": [
      "J1, J2 {1: 1, 3: 1, 4: 1} {1: 1, 3: 1, 4: 1}\n",
      "common [1, 3, 4]\n",
      "sim score of 1-1 :\t 1.000\n",
      "\n",
      "J1, J2 {1: 1, 3: 1, 4: 1} {2: 1}\n",
      "common []\n",
      "sim score of 1-2 :\t 0.000\n",
      "\n",
      "J1, J2 {1: 1, 3: 1, 4: 1} {1: 1, 2: 1}\n",
      "common [1]\n",
      "sim score of 1-3 :\t 0.408\n",
      "\n",
      "J1, J2 {1: 1, 3: 1, 4: 1} {3: 1}\n",
      "common [3]\n",
      "sim score of 1-4 :\t 0.577\n",
      "\n",
      "J1, J2 {1: 1, 3: 1, 4: 1} {1: 1, 2: 1}\n",
      "common [1]\n",
      "sim score of 1-5 :\t 0.408\n",
      "\n",
      "J1, J2 {2: 1} {2: 1}\n",
      "common [2]\n",
      "sim score of 2-2 :\t 1.000\n",
      "\n",
      "J1, J2 {2: 1} {1: 1, 2: 1}\n",
      "common [2]\n",
      "sim score of 2-3 :\t 0.707\n",
      "\n",
      "J1, J2 {2: 1} {3: 1}\n",
      "common []\n",
      "sim score of 2-4 :\t 0.000\n",
      "\n",
      "J1, J2 {2: 1} {1: 1, 2: 1}\n",
      "common [2]\n",
      "sim score of 2-5 :\t 0.707\n",
      "\n",
      "J1, J2 {1: 1, 2: 1} {1: 1, 2: 1}\n",
      "common [1, 2]\n",
      "sim score of 3-3 :\t 1.000\n",
      "\n",
      "J1, J2 {1: 1, 2: 1} {3: 1}\n",
      "common []\n",
      "sim score of 3-4 :\t 0.000\n",
      "\n",
      "J1, J2 {1: 1, 2: 1} {1: 1, 2: 1}\n",
      "common [1, 2]\n",
      "sim score of 3-5 :\t 1.000\n",
      "\n",
      "J1, J2 {3: 1} {3: 1}\n",
      "common [3]\n",
      "sim score of 4-4 :\t 1.000\n",
      "\n",
      "J1, J2 {3: 1} {1: 1, 2: 1}\n",
      "common []\n",
      "sim score of 4-5 :\t 0.000\n",
      "\n"
     ]
    }
   ],
   "source": [
    "# 计算两两物品间的jarcard sim (耗时操作可离线计算)\n",
    "for i in range(len(uids)-1):\n",
    "    for j in range(i, len(uids)):\n",
    "        id1, id2 = uids[i], uids[j]\n",
    "        print(\"sim score of {}-{} :\\t {:.3f}\\n\".format(id1, id2, usercf.jarcard_sim(id1, id2)))"
   ]
  },
  {
   "cell_type": "code",
   "execution_count": 18,
   "metadata": {},
   "outputs": [
    {
     "name": "stdout",
     "output_type": "stream",
     "text": [
      "J1, J2 {1: 1, 3: 1, 4: 1} {1: 1, 3: 1, 4: 1}\n",
      "common [1, 3, 4]\n",
      "sim score of 1-1 :\t 1.025\n",
      "\n",
      "J1, J2 {1: 1, 3: 1, 4: 1} {2: 1}\n",
      "common []\n",
      "sim score of 1-2 :\t 0.000\n",
      "\n",
      "J1, J2 {1: 1, 3: 1, 4: 1} {1: 1, 2: 1}\n",
      "common [1]\n",
      "sim score of 1-3 :\t 0.294\n",
      "\n",
      "J1, J2 {1: 1, 3: 1, 4: 1} {3: 1}\n",
      "common [3]\n",
      "sim score of 1-4 :\t 0.526\n",
      "\n",
      "J1, J2 {1: 1, 3: 1, 4: 1} {1: 1, 2: 1}\n",
      "common [1]\n",
      "sim score of 1-5 :\t 0.294\n",
      "\n",
      "J1, J2 {2: 1} {2: 1}\n",
      "common [2]\n",
      "sim score of 2-2 :\t 0.721\n",
      "\n",
      "J1, J2 {2: 1} {1: 1, 2: 1}\n",
      "common [2]\n",
      "sim score of 2-3 :\t 0.510\n",
      "\n",
      "J1, J2 {2: 1} {3: 1}\n",
      "common []\n",
      "sim score of 2-4 :\t 0.000\n",
      "\n",
      "J1, J2 {2: 1} {1: 1, 2: 1}\n",
      "common [2]\n",
      "sim score of 2-5 :\t 0.510\n",
      "\n",
      "J1, J2 {1: 1, 2: 1} {1: 1, 2: 1}\n",
      "common [1, 2]\n",
      "sim score of 3-3 :\t 0.721\n",
      "\n",
      "J1, J2 {1: 1, 2: 1} {3: 1}\n",
      "common []\n",
      "sim score of 3-4 :\t 0.000\n",
      "\n",
      "J1, J2 {1: 1, 2: 1} {1: 1, 2: 1}\n",
      "common [1, 2]\n",
      "sim score of 3-5 :\t 0.721\n",
      "\n",
      "J1, J2 {3: 1} {3: 1}\n",
      "common [3]\n",
      "sim score of 4-4 :\t 0.910\n",
      "\n",
      "J1, J2 {3: 1} {1: 1, 2: 1}\n",
      "common []\n",
      "sim score of 4-5 :\t 0.000\n",
      "\n"
     ]
    }
   ],
   "source": [
    "# 打压热门物品的jarcard sim (耗时操作可离线计算)\n",
    "for i in range(len(uids)-1):\n",
    "    for j in range(i, len(uids)):\n",
    "        id1, id2 = uids[i], uids[j]\n",
    "        print(\"sim score of {}-{} :\\t {:.3f}\\n\".format(id1, id2, usercf.jarcard_sim_with_suppressing_hot(id1, id2)))"
   ]
  },
  {
   "attachments": {},
   "cell_type": "markdown",
   "metadata": {},
   "source": [
    "## 打压热门物品区别"
   ]
  },
  {
   "cell_type": "code",
   "execution_count": 21,
   "metadata": {},
   "outputs": [
    {
     "name": "stdout",
     "output_type": "stream",
     "text": [
      "J1, J2 {1: 1, 3: 1, 4: 1} {1: 1, 2: 1}\n",
      "common [1]\n",
      "not suppressing_hot: sim score of 1-3 :\t 0.408\n",
      "\n",
      "J1, J2 {1: 1, 3: 1, 4: 1} {1: 1, 2: 1}\n",
      "common [1]\n",
      "suppressing_hot: sim score of 1-3 :\t 0.294\n",
      "\n"
     ]
    }
   ],
   "source": [
    "# 由于1是热门物品，喜欢的用户较多。对用户相似度的评估不应该占太多权重。\n",
    "\n",
    "id1, id2 = 1, 3\n",
    "print(\"not suppressing_hot: sim score of {}-{} :\\t {:.3f}\\n\".format(id1, id2, usercf.jarcard_sim(id1, id2)))\n",
    "print(\"suppressing_hot: sim score of {}-{} :\\t {:.3f}\\n\".format(id1, id2, usercf.jarcard_sim_with_suppressing_hot(id1, id2)))"
   ]
  },
  {
   "attachments": {},
   "cell_type": "markdown",
   "metadata": {},
   "source": [
    "## UserCF召回的完整流程\n",
    "事先做离线计算\n",
    "  \n",
    "建⽴ ⽤户->⽤户 的索引\n",
    "* 对于每个⽤户，索引他最相似的k个⽤户。\n",
    "* 给定任意⽤户ID，可以快速找到他最相似的k个⽤户。\n",
    "\n",
    "建⽴ ⽤户->物品 的索引\n",
    "* 记录每个⽤户最近点击、交互过的物品ID。\n",
    "* 给定任意⽤户ID，可以找到他近期感兴趣的物品列表。\n",
    "\n",
    "\n",
    "线上做召回\n",
    "1) 给定⽤户ID，通过⽤户->⽤户索引，找到top-k相似⽤户。\n",
    "2) 对于每个top-k相似⽤户，通过⽤户->物品索引，找到⽤户近期感兴趣的物品列表（last-n）。\n",
    "3) 对于取回的𝑛𝑘 个相似物品，⽤公式预估⽤户对每个物品的兴趣分数。\n",
    "4) 返回分数最⾼的100个物品，作为召回结果。\n",
    "\n",
    "\n",
    "\n"
   ]
  }
 ],
 "metadata": {
  "kernelspec": {
   "display_name": "base",
   "language": "python",
   "name": "python3"
  },
  "language_info": {
   "codemirror_mode": {
    "name": "ipython",
    "version": 3
   },
   "file_extension": ".py",
   "mimetype": "text/x-python",
   "name": "python",
   "nbconvert_exporter": "python",
   "pygments_lexer": "ipython3",
   "version": "3.10.9"
  },
  "orig_nbformat": 4
 },
 "nbformat": 4,
 "nbformat_minor": 2
}
