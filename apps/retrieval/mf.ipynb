{
 "cells": [
  {
   "attachments": {},
   "cell_type": "markdown",
   "metadata": {},
   "source": [
    "## 矩阵分解or 矩阵补充算法（过时且不适合做召回）\n",
    "\n",
    "\n",
    "user emb 使用userid 即可查找\n",
    "item emb 需要使用Milvus、Faiss、HnswLib等向量数据库，方便快速找到与query(user emb)内积最大的topk物品"
   ]
  },
  {
   "cell_type": "code",
   "execution_count": null,
   "metadata": {},
   "outputs": [],
   "source": [
    "mf = MF()\n",
    "print(mf)\n",
    "\n",
    "loss_fn = torch.nn.MSELoss()\n",
    "# optimizer = torch.optim.SGD(mf.parameters(), lr=1e-2)\n",
    "\n",
    "for epoch in range(100):\n",
    "    # 真不好说哪个优化器最好\n",
    "    optimizer = torch.optim.SGD(mf.parameters(), lr=1e-1 * epoch / 100, weight_decay=0.1)\n",
    "    optimizer = torch.optim.RMSprop(mf.parameters(), weight_decay=0.1)\n",
    "    optimizer = torch.optim.Adam(mf.parameters(), lr=1e-1 * epoch / 100, weight_decay=0.1)\n",
    "    loss = train(model=mf, loss_fn=loss_fn, optimizer=optimizer)\n",
    "    # print(mf.user_matrix)\n",
    "    print(epoch, 'loss:', loss)\n",
    "\n",
    "# print(mf.user_matrix)\n",
    "# print(mf.item_matrix)\n",
    "print('矩阵复原情况')\n",
    "print(mf.user_matrix.matmul(mf.item_matrix))\n",
    "\n",
    "##################################### final test ###################################\n",
    "\n",
    "# 计算矩阵相似度\n",
    "# print(mf.user_matrix)\n",
    "print('用户相似度矩阵')\n",
    "print(cos_sim(mf.user_matrix))\n",
    "\n",
    "# 计算书上的相似度，看看模型训练情况\n",
    "user_matrix_2 = torch.tensor([[1.2, 0.8],\n",
    "                                [1.4, 0.9],\n",
    "                                [1.5, 1.0],\n",
    "                                [1.2, 0.8]])\n",
    "# print(user_matrix_2)\n",
    "print(cos_sim(user_matrix_2))"
   ]
  }
 ],
 "metadata": {
  "language_info": {
   "name": "python"
  },
  "orig_nbformat": 4
 },
 "nbformat": 4,
 "nbformat_minor": 2
}
