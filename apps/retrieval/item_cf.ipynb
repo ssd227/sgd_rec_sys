{
 "cells": [
  {
   "attachments": {},
   "cell_type": "markdown",
   "metadata": {},
   "source": [
    "## 基于item的协同过滤\n",
    "\n",
    "基本思想:\n",
    "* 如果⽤户喜欢物品𝑖𝑡𝑒𝑚_1，⽽且物品𝑖𝑡𝑒𝑚_1 与𝑖𝑡𝑒𝑚_2 相似，那么⽤户很可能喜欢物品𝑖𝑡𝑒𝑚_2。"
   ]
  },
  {
   "cell_type": "code",
   "execution_count": 1,
   "metadata": {},
   "outputs": [
    {
     "name": "stdout",
     "output_type": "stream",
     "text": [
      "/playground/sgd_deep_learning/sgd_rec_sys\n"
     ]
    }
   ],
   "source": [
    "%cd /playground/sgd_deep_learning/sgd_rec_sys/\n",
    "import sys \n",
    "sys.path.append('./python')"
   ]
  },
  {
   "cell_type": "code",
   "execution_count": 2,
   "metadata": {},
   "outputs": [],
   "source": [
    "import numpy as np\n",
    "import random\n",
    "from sgd_rec_sys.retrieval import ItemCF, RateInfo"
   ]
  },
  {
   "attachments": {},
   "cell_type": "markdown",
   "metadata": {},
   "source": [
    "## rate_info\n",
    "\n",
    "* 从文件中读取用户、物品的meta info（比如id-name的映射关系）\n",
    "* 读取用户历史评分文件，针对不同算法整理对应数据\n",
    "  * itemcf：需要每个物品 对应的 用户评价list\n",
    "  * usercf：需要每个用户 评价过的 所有物品的list"
   ]
  },
  {
   "cell_type": "code",
   "execution_count": 3,
   "metadata": {},
   "outputs": [],
   "source": [
    "rate_info = RateInfo(user_file='./data/retrieval/user2id.txt',\n",
    "                     item_file='./data/retrieval/item2id.txt',\n",
    "                    rate_file='./data/retrieval/userid_itemid_rate.txt')"
   ]
  },
  {
   "cell_type": "code",
   "execution_count": 4,
   "metadata": {},
   "outputs": [
    {
     "data": {
      "text/plain": [
       "{'col_name': ['user_id', 'user_name'],\n",
       " 'id2name': {1: 'A', 2: 'B', 3: 'C', 4: 'D', 5: 'E'},\n",
       " 'name2id': {'A': 1, 'B': 2, 'C': 3, 'D': 4, 'E': 5}}"
      ]
     },
     "execution_count": 4,
     "metadata": {},
     "output_type": "execute_result"
    }
   ],
   "source": [
    "# 用户侧信息\n",
    "rate_info.user_meta_info()"
   ]
  },
  {
   "cell_type": "code",
   "execution_count": 5,
   "metadata": {},
   "outputs": [
    {
     "data": {
      "text/plain": [
       "{'col_name': ['item_id', 'item_name'],\n",
       " 'id2name': {1: 'story_book', 2: 'magazine', 3: 'tv', 4: 'ps4'},\n",
       " 'name2id': {'story_book': 1, 'magazine': 2, 'tv': 3, 'ps4': 4}}"
      ]
     },
     "execution_count": 5,
     "metadata": {},
     "output_type": "execute_result"
    }
   ],
   "source": [
    "# 物品侧信息\n",
    "rate_info.item_meta_info()"
   ]
  },
  {
   "cell_type": "code",
   "execution_count": 6,
   "metadata": {},
   "outputs": [
    {
     "data": {
      "text/plain": [
       "{'col_name': ['userid', 'itemid', 'rate'],\n",
       " 'rate_pairs': [[1, 1, 1],\n",
       "  [1, 2, -1],\n",
       "  [1, 3, 1],\n",
       "  [1, 4, 1],\n",
       "  [2, 2, 1],\n",
       "  [2, 3, -1],\n",
       "  [2, 4, -1],\n",
       "  [3, 1, 1],\n",
       "  [3, 2, 1],\n",
       "  [3, 3, -1],\n",
       "  [4, 1, -1],\n",
       "  [4, 3, 1],\n",
       "  [5, 1, 1],\n",
       "  [5, 2, 1],\n",
       "  [5, 4, -1]]}"
      ]
     },
     "execution_count": 6,
     "metadata": {},
     "output_type": "execute_result"
    }
   ],
   "source": [
    "#  rate 信息\n",
    "rate_info.rate_meta_info()"
   ]
  },
  {
   "attachments": {},
   "cell_type": "markdown",
   "metadata": {},
   "source": [
    "## ItemCF"
   ]
  },
  {
   "cell_type": "code",
   "execution_count": 10,
   "metadata": {},
   "outputs": [
    {
     "name": "stdout",
     "output_type": "stream",
     "text": [
      "all item ids: [1, 2, 3, 4]\n",
      "{1: 'story_book', 2: 'magazine', 3: 'tv', 4: 'ps4'}\n",
      "\n",
      "w1, w2 {1: 1, 3: 1, 4: -1, 5: 1} {1: 1, 3: 1, 4: -1, 5: 1}\n",
      "common [1, 3, 4, 5]\n",
      "sim score of 1-1 :\t 1.0\n",
      "\n",
      "w1, w2 {1: 1, 3: 1, 4: -1, 5: 1} {1: -1, 2: 1, 3: 1, 5: 1}\n",
      "common [1, 3, 5]\n",
      "sim score of 1-2 :\t 0.25\n",
      "\n",
      "w1, w2 {1: 1, 3: 1, 4: -1, 5: 1} {1: 1, 2: -1, 3: -1, 4: 1}\n",
      "common [1, 3, 4]\n",
      "sim score of 1-3 :\t -0.25\n",
      "\n",
      "w1, w2 {1: 1, 3: 1, 4: -1, 5: 1} {1: 1, 2: -1, 5: -1}\n",
      "common [1, 5]\n",
      "sim score of 1-4 :\t 0.0\n",
      "\n",
      "w1, w2 {1: -1, 2: 1, 3: 1, 5: 1} {1: -1, 2: 1, 3: 1, 5: 1}\n",
      "common [1, 2, 3, 5]\n",
      "sim score of 2-2 :\t 1.0\n",
      "\n",
      "w1, w2 {1: -1, 2: 1, 3: 1, 5: 1} {1: 1, 2: -1, 3: -1, 4: 1}\n",
      "common [1, 2, 3]\n",
      "sim score of 2-3 :\t -0.75\n",
      "\n",
      "w1, w2 {1: -1, 2: 1, 3: 1, 5: 1} {1: 1, 2: -1, 5: -1}\n",
      "common [1, 2, 5]\n",
      "sim score of 2-4 :\t -0.8660254037844387\n",
      "\n",
      "w1, w2 {1: 1, 2: -1, 3: -1, 4: 1} {1: 1, 2: -1, 3: -1, 4: 1}\n",
      "common [1, 2, 3, 4]\n",
      "sim score of 3-3 :\t 1.0\n",
      "\n",
      "w1, w2 {1: 1, 2: -1, 3: -1, 4: 1} {1: 1, 2: -1, 5: -1}\n",
      "common [1, 2]\n",
      "sim score of 3-4 :\t 0.5773502691896258\n",
      "\n"
     ]
    }
   ],
   "source": [
    "itemcf = ItemCF(meta_info=rate_info)\n",
    "\n",
    "item_info = rate_info.item_meta_info()\n",
    "iids = list(item_info['id2name'].keys())\n",
    "print(\"all item ids:\", iids)\n",
    "print(item_info['id2name'])\n",
    "print()\n",
    "\n",
    "# 计算两两物品间的cos sim (耗时操作可离线计算)\n",
    "for i in range(len(iids)-1):\n",
    "    for j in range(i, len(iids)):\n",
    "        id1, id2 = iids[i], iids[j]\n",
    "        print(\"sim score of {}-{} :\\t {}\\n\".format(id1, id2, itemcf.sim(id1, id2)))\n",
    "        "
   ]
  },
  {
   "attachments": {},
   "cell_type": "markdown",
   "metadata": {},
   "source": [
    "## ItemCF召回的完整流程\n",
    "\n",
    "建⽴ ⽤户->物品 的索引\n",
    "* 记录每个⽤户最近点击、交互过的物品ID。\n",
    "* 给定任意⽤户ID，可以找到他近期感兴趣的物品列表。\n",
    "  \n",
    "建⽴ 物品->物品 的索引\n",
    "* 计算物品之间两两相似度。\n",
    "* 对于每个物品，索引它最相似的k个物品。\n",
    "* 给定任意物品ID，可以快速找到它最相似的k个物品。\n",
    "\n",
    "线上做召回\n",
    "1) 给定⽤户ID，通过⽤户->物品索引，找到⽤户近期感兴趣的物品列表（last-n）。\n",
    "2) 对于last-n列表中每个物品，通过物品->物品的索引，找到top-k相似物品。\n",
    "3) 对于取回的相似物品（最多有𝑛𝑘 个），⽤公式预估⽤户对物品的兴趣分数。\n",
    "4) 返回分数最⾼的100个物品，作为推荐结果。\n",
    "\n",
    "⽤索引，离线计算量⼤，线上计算量⼩。\n",
    "\n"
   ]
  }
 ],
 "metadata": {
  "kernelspec": {
   "display_name": "base",
   "language": "python",
   "name": "python3"
  },
  "language_info": {
   "codemirror_mode": {
    "name": "ipython",
    "version": 3
   },
   "file_extension": ".py",
   "mimetype": "text/x-python",
   "name": "python",
   "nbconvert_exporter": "python",
   "pygments_lexer": "ipython3",
   "version": "3.10.9"
  },
  "orig_nbformat": 4
 },
 "nbformat": 4,
 "nbformat_minor": 2
}
