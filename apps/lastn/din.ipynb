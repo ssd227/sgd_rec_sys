{
 "cells": [
  {
   "attachments": {},
   "cell_type": "markdown",
   "metadata": {},
   "source": [
    "# DIN\n",
    "\n",
    "只测试交互模块，没有实现完整的训练过程\n"
   ]
  },
  {
   "cell_type": "code",
   "execution_count": 1,
   "metadata": {},
   "outputs": [
    {
     "name": "stdout",
     "output_type": "stream",
     "text": [
      "/playground/sgd_deep_learning/sgd_rec_sys\n"
     ]
    }
   ],
   "source": [
    "%cd /playground/sgd_deep_learning/sgd_rec_sys/\n",
    "import sys\n",
    "sys.path.append('./python')"
   ]
  },
  {
   "cell_type": "code",
   "execution_count": 2,
   "metadata": {},
   "outputs": [],
   "source": [
    "import torch\n",
    "from torch import nn\n",
    "from torch.utils.data import DataLoader\n",
    "import torch.optim as optim\n",
    "\n",
    "import pickle\n",
    "import numpy as np\n",
    "\n",
    "from sgd_rec_sys.lastn import DIN\n",
    "from sgd_rec_sys.data import FakeLastnDataFactory, LastnDataset"
   ]
  },
  {
   "attachments": {},
   "cell_type": "markdown",
   "metadata": {},
   "source": [
    "## lastn fake data生成"
   ]
  },
  {
   "cell_type": "code",
   "execution_count": 3,
   "metadata": {},
   "outputs": [
    {
     "name": "stdout",
     "output_type": "stream",
     "text": [
      "user_behavior success, shape: (600, 10, 32)\n",
      "candidate_ad success, shape: (600, 32)\n"
     ]
    }
   ],
   "source": [
    "# input\n",
    "n_samples = 600 # 总样本数\n",
    "last_n = 10 # 与用户最后10个物品做交互\n",
    "fea_dim = 32 # 用户单个行为concat后的编码维度\n",
    "\n",
    "in_dim = int(fea_dim*(fea_dim+2)) # activation Unit中，外积扩张后的维度\n",
    "hidden_dim = int(max(16, in_dim/2)) # 隐藏层\n",
    "\n",
    "## 生成伪Lastn数据\n",
    "dump_file = './data/fake/lastn.pkl'\n",
    "fake_data_factory = FakeLastnDataFactory(n_samples, fea_dim,\n",
    "                                        last_n, dtype=np.float32)\n",
    "fake_data_factory.presist(dump_file)"
   ]
  },
  {
   "attachments": {},
   "cell_type": "markdown",
   "metadata": {},
   "source": [
    "## 参数设置"
   ]
  },
  {
   "cell_type": "code",
   "execution_count": 4,
   "metadata": {},
   "outputs": [
    {
     "name": "stdout",
     "output_type": "stream",
     "text": [
      "device: cuda\n"
     ]
    }
   ],
   "source": [
    "device = torch.device(\"cuda\" if torch.cuda.is_available() else \"cpu\")\n",
    "print('device:', device)\n",
    "\n",
    "# 训练参数\n",
    "train_batch_size = 64\n",
    "epochs = 1\n",
    "\n",
    "with open(dump_file,'rb') as f:\n",
    "    fake_data = pickle.load(f)\n",
    "train_ds = LastnDataset(fake_data, device)\n",
    "train_dl = DataLoader(train_ds, batch_size=train_batch_size, shuffle=True)\n",
    "\n",
    "\n",
    "# for  x in train_dl:\n",
    "#     a,b = x\n",
    "#     print(a.shape, b.shape, a.device)\n",
    "# 输入验证 torch.Size([64, 32]) torch.Size([64, 10, 32]) cuda:0\n",
    "\n",
    "# 定义模型\n",
    "model = DIN(fea_dim,\n",
    "            hidden_dim,\n",
    "            ).to(device)\n"
   ]
  },
  {
   "attachments": {},
   "cell_type": "markdown",
   "metadata": {},
   "source": [
    "## Forward"
   ]
  },
  {
   "cell_type": "code",
   "execution_count": 5,
   "metadata": {},
   "outputs": [
    {
     "name": "stdout",
     "output_type": "stream",
     "text": [
      "sum pooling out: torch.Size([64, 32])\n",
      "B, N, K [64, 10, 32]\n"
     ]
    }
   ],
   "source": [
    "def train(dataloader, model, epochs=1,):\n",
    "    for epoch in range(epochs):\n",
    "        for x in dataloader:\n",
    "            # candidate_ad, goods = x # [B,K] [B,N,K]\n",
    "            outputs = model(x) # forward\n",
    "            print('sum pooling out:', outputs.shape)\n",
    "            \n",
    "            print('B, N, K', list(x[1].shape))\n",
    "            \n",
    "            break\n",
    "            \n",
    "train(train_dl, model, epochs)"
   ]
  }
 ],
 "metadata": {
  "kernelspec": {
   "display_name": "base",
   "language": "python",
   "name": "python3"
  },
  "language_info": {
   "codemirror_mode": {
    "name": "ipython",
    "version": 3
   },
   "file_extension": ".py",
   "mimetype": "text/x-python",
   "name": "python",
   "nbconvert_exporter": "python",
   "pygments_lexer": "ipython3",
   "version": "3.10.9"
  },
  "orig_nbformat": 4
 },
 "nbformat": 4,
 "nbformat_minor": 2
}
