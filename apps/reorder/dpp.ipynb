{
 "cells": [
  {
   "attachments": {},
   "cell_type": "markdown",
   "metadata": {},
   "source": [
    "## DPP(物品多样性算法)\n",
    "\n",
    "注意1：item emb的维度 N 必须大于召回的物品数量k，否则 det（S）== 0, 算法失效。\n",
    "\n",
    "注意2：物品向量需要先标准化norm(emb) = 1, 否则会在数值算法推导过程中出现偏差（参考王树森的note）。\n",
    "\n",
    "\n",
    "存在的问题：\n",
    "    比如mmr例子中的emb dim = 2 三个物品，我们选择两个k=2\n",
    "    由于k <= emb_dim, 但是dpp的物理意义在二维情况下是两个向量围起来的最大面积，\n",
    "    最不相似的 item3 与 item1构成的面积，反而没有最相似的 item2 与 item1的面积大。\n",
    "    从而并没有达到多样性的需求。\n",
    "\n",
    "    总结：\n",
    "        dpp使用矩阵的det作为衡量标准，但是A = V @ V.T, 导致detV**2永远为正数。\n",
    "        是不是说dpp选择的物品是相似度并不是存粹向量的相似度，\n",
    "        只是数学意义上的可表示相似度，负相似物品也可以用正相似物品表示。\n",
    "        \n"
   ]
  },
  {
   "cell_type": "code",
   "execution_count": 1,
   "metadata": {},
   "outputs": [
    {
     "name": "stdout",
     "output_type": "stream",
     "text": [
      "/playground/sgd_deep_learning/sgd_rec_sys\n"
     ]
    }
   ],
   "source": [
    "%cd /playground/sgd_deep_learning/sgd_rec_sys/\n",
    "import sys \n",
    "sys.path.append('./python')"
   ]
  },
  {
   "cell_type": "code",
   "execution_count": 2,
   "metadata": {},
   "outputs": [],
   "source": [
    "import numpy as np\n",
    "import random\n",
    "from sgd_rec_sys.reorder import dpp, Item"
   ]
  },
  {
   "cell_type": "code",
   "execution_count": 3,
   "metadata": {},
   "outputs": [
    {
     "name": "stdout",
     "output_type": "stream",
     "text": [
      "[[4.47099885]]\n",
      "[[1.]]\n"
     ]
    }
   ],
   "source": [
    "emb = np.random.randn(1,4)\n",
    "print(emb @ emb.T)\n",
    "\n",
    "emb_norm = emb/ np.linalg.norm(emb)\n",
    "print(emb_norm @ emb_norm.T)"
   ]
  },
  {
   "attachments": {},
   "cell_type": "markdown",
   "metadata": {},
   "source": [
    "### 0、物品队列准备"
   ]
  },
  {
   "cell_type": "code",
   "execution_count": 4,
   "metadata": {},
   "outputs": [],
   "source": [
    "emb_N = 10\n",
    "np.random.seed(1) # 随机emb可复现\n",
    "\n",
    "# 准备四个物品，选其中的两个\n",
    "a1 = Item(id=1)\n",
    "a1.set_reward(0.6)\n",
    "a1.set_emb(np.random.randn(emb_N))\n",
    "\n",
    "a2 = Item(id=2)\n",
    "a2.set_reward(0.5)\n",
    "a2.set_emb(np.random.randn(emb_N))\n",
    "\n",
    "a3 = Item(id=3)\n",
    "a3.set_reward(0.5)\n",
    "a3.set_emb(np.random.randn(emb_N))\n",
    "\n",
    "a4 = Item(id=4)\n",
    "a4.set_reward(0.5)\n",
    "a4.set_emb(np.random.randn(emb_N))\n",
    "\n",
    "items= [a1,a2,a3, a4]\n",
    "index = {item.id: item for item in items}"
   ]
  },
  {
   "attachments": {},
   "cell_type": "markdown",
   "metadata": {},
   "source": [
    "### 1、 numpy det cholesky相关函数测试"
   ]
  },
  {
   "cell_type": "code",
   "execution_count": 5,
   "metadata": {},
   "outputs": [
    {
     "name": "stdout",
     "output_type": "stream",
     "text": [
      "[[ 0.42989618 -0.1619063  -0.13978494 -0.28396985  0.22903715 -0.60912089\n",
      "   0.46177859 -0.20145958  0.08443629 -0.06599789]\n",
      " [ 0.45623187 -0.64284026 -0.10060612 -0.11983919  0.35377809 -0.34320684\n",
      "  -0.05380399 -0.27392437  0.01317225  0.18185995]] (2, 10)\n",
      "[[ 0.42989618 -0.1619063  -0.13978494 -0.28396985  0.22903715 -0.60912089\n",
      "   0.46177859 -0.20145958  0.08443629 -0.06599789]\n",
      " [ 0.45623187 -0.64284026 -0.10060612 -0.11983919  0.35377809 -0.34320684\n",
      "  -0.05380399 -0.27392437  0.01317225  0.18185995]] (2, 10) 0.5672492314307513\n",
      "[[ 0.42989618 -0.1619063  -0.13978494 -0.28396985  0.22903715 -0.60912089\n",
      "   0.46177859 -0.20145958  0.08443629 -0.06599789]\n",
      " [-0.44526454  0.46310739  0.36474594  0.20328822  0.36444868 -0.27660773\n",
      "  -0.04971625 -0.37857322 -0.10837633  0.21455966]] (2, 10) 0.9913224280047033\n"
     ]
    }
   ],
   "source": [
    "aid = [1,2]\n",
    "bid = [1,3]\n",
    "\n",
    "def get_matrix(ids):\n",
    "    X = np.array([index[id].get_norm_emb() for id in ids])\n",
    "    X.reshape(len(ids), -1)\n",
    "    return X\n",
    "    \n",
    "A = get_matrix(aid)\n",
    "B = get_matrix(bid)\n",
    "print(A, A.shape)\n",
    "\n",
    "print(A, A.shape, np.linalg.det(A @ A.T))\n",
    "print(B, B.shape, np.linalg.det(B @ B.T))"
   ]
  },
  {
   "attachments": {},
   "cell_type": "markdown",
   "metadata": {},
   "source": [
    "### 1.1、验证cholesky分解的正确性"
   ]
  },
  {
   "cell_type": "code",
   "execution_count": 6,
   "metadata": {},
   "outputs": [
    {
     "name": "stdout",
     "output_type": "stream",
     "text": [
      "[[1.         0.65783795]\n",
      " [0.65783795 1.        ]]\n",
      "[[1.         0.65783795]\n",
      " [0.65783795 1.        ]]\n",
      "0.5672492314307513 0.5672492314307515\n"
     ]
    }
   ],
   "source": [
    "from numpy.linalg import  det, cholesky\n",
    "\n",
    "AA = A @ A.T\n",
    "BB = B @ B.T\n",
    "\n",
    "L = cholesky(AA)\n",
    "print(AA)\n",
    "print( L @ L.T)\n",
    "print(det(AA), det(L)**2)"
   ]
  },
  {
   "attachments": {},
   "cell_type": "markdown",
   "metadata": {},
   "source": [
    "### 1.2、验证dpp递推公式计算det的正确性"
   ]
  },
  {
   "cell_type": "code",
   "execution_count": 7,
   "metadata": {},
   "outputs": [
    {
     "name": "stdout",
     "output_type": "stream",
     "text": [
      "Asi_true [[1.         0.65783795]\n",
      " [0.65783795 1.        ]]\n",
      "L_asi [[1.         0.        ]\n",
      " [0.65783795 0.7531595 ]]\n",
      "------------\n",
      "Asi_true [[ 1.          0.65783795 -0.09315349]\n",
      " [ 0.65783795  1.         -0.19407028]\n",
      " [-0.09315349 -0.19407028  1.        ]]\n",
      "L_asi [[ 1.          0.          0.        ]\n",
      " [ 0.65783795  0.7531595   0.        ]\n",
      " [-0.09315349 -0.17631111  0.97991674]]\n"
     ]
    }
   ],
   "source": [
    "# step t：真实V_s  \n",
    "V = get_matrix([1,2])\n",
    "As = V @ V.T\n",
    "print(\"Asi_true\", As)\n",
    "print(\"L_asi\", cholesky(As))\n",
    "\n",
    "print('---' * 4)\n",
    "\n",
    "# step t+1:真实V_si\n",
    "Vsi =  get_matrix([1,2, 3])\n",
    "Asi = Vsi @ Vsi.T\n",
    "print(\"Asi_true\", Asi)\n",
    "print(\"L_asi\", cholesky(Asi))"
   ]
  },
  {
   "cell_type": "code",
   "execution_count": 8,
   "metadata": {},
   "outputs": [
    {
     "name": "stdout",
     "output_type": "stream",
     "text": [
      "ai [[-0.09315349]\n",
      " [-0.19407028]]\n",
      "ai.shape (2, 1)\n",
      "L and L_inv's shape (2, 2) (2, 2)\n",
      "ci [[-0.09315349]\n",
      " [-0.17631111]]\n",
      "[[0.03976318]]\n",
      "ci.shape (2, 1)\n",
      "di [[0.97991674]]\n",
      "new det: [[0.5446936]]\n",
      "det_L_As:0.7531594993298242, di:[[0.97991674]]\n",
      "keep same: 0.5446935990443732 [[0.5446936]]\n",
      "true det == 递归det\n"
     ]
    }
   ],
   "source": [
    "# 由L_s 递推到L_si 的中间步骤\n",
    "\n",
    "L_As = cholesky(As)\n",
    "# 由As递推Asi，基于cholesky 分解， As = L @ L.T\n",
    "ai = np.array([index[3].get_norm_emb() @ index[sid].get_norm_emb() for sid in [1, 2]])\n",
    "ai = ai.reshape(-1, 1)\n",
    "print('ai', ai)\n",
    "print(\"ai.shape\", ai.shape)\n",
    "print(\"L and L_inv's shape\", L_As.shape, np.linalg.inv(L_As).shape)\n",
    "\n",
    "ci = np.linalg.inv(L_As) @ ai\n",
    "print('ci', ci)\n",
    "print(ci.T@ci)\n",
    "print(\"ci.shape\", ci.shape)\n",
    "\n",
    "di = np.sqrt(1-ci.T@ci)\n",
    "print('di', di)\n",
    "print(\"new det:\", (det(L_As) * di)**2)\n",
    "\n",
    "# 计算当前候选item的det值\n",
    "next_det = (det(L_As) * di)**2\n",
    "print(\"det_L_As:{}, di:{}\".format(det(L_As), di))\n",
    "\n",
    "print(\"keep same:\", det(Asi), next_det)\n",
    "assert abs(det(Asi)- next_det) < 1e-7\n",
    "print(\"true det == 递归det\")   "
   ]
  },
  {
   "cell_type": "code",
   "execution_count": 9,
   "metadata": {},
   "outputs": [
    {
     "name": "stdout",
     "output_type": "stream",
     "text": [
      "L_As [[1.         0.        ]\n",
      " [0.65783795 0.7531595 ]] (2, 2)\n",
      "L_As_pad [[1.         0.         0.        ]\n",
      " [0.65783795 0.7531595  0.        ]] (2, 3)\n",
      "ci, di [[-0.09315349]\n",
      " [-0.17631111]] (2, 1) [[0.97991674]]\n",
      "cidi [[-0.09315349 -0.17631111  0.97991674]] (1, 3)\n",
      "next_L [[ 1.          0.          0.        ]\n",
      " [ 0.65783795  0.7531595   0.        ]\n",
      " [-0.09315349 -0.17631111  0.97991674]]\n",
      "True_next_L [[ 1.          0.          0.        ]\n",
      " [ 0.65783795  0.7531595   0.        ]\n",
      " [-0.09315349 -0.17631111  0.97991674]]\n"
     ]
    }
   ],
   "source": [
    "# 递推更新L。\n",
    "\n",
    "# 右边补上0\n",
    "m,n = L_As.shape\n",
    "L_As_pad = np.zeros((m,n+1))  \n",
    "L_As_pad[:,:n] = L_As\n",
    "print(\"L_As\", L_As, L_As.shape)\n",
    "print(\"L_As_pad\", L_As_pad, L_As_pad.shape)\n",
    "\n",
    "# 下面补上一行（ci，di）\n",
    "print(\"ci, di\", ci,ci.shape, di )\n",
    "cidi = np.concatenate((ci.T, np.array(di)), axis=1)\n",
    "print(\"cidi\", cidi, cidi.shape)\n",
    "\n",
    "next_L = np.concatenate((L_As_pad, cidi), axis=0)  \n",
    "print(\"next_L\", next_L)\n",
    "print(\"True_next_L\", cholesky(Asi))"
   ]
  },
  {
   "attachments": {},
   "cell_type": "markdown",
   "metadata": {},
   "source": [
    "### 2、test：DPP算法"
   ]
  },
  {
   "cell_type": "code",
   "execution_count": 10,
   "metadata": {},
   "outputs": [
    {
     "name": "stdout",
     "output_type": "stream",
     "text": [
      "\n",
      "rid: 2 ***************\n",
      "rid:2, score:[[-0.03347826]]\n",
      "\n",
      "rid: 3 ***************\n",
      "rid:3, score:[[0.24564228]]\n",
      "\n",
      "rid: 4 ***************\n",
      "rid:4, score:[[0.23034454]]\n",
      "\n",
      "rid: 2 ***************\n",
      "rid:2, score:[[-0.05376592]]\n",
      "\n",
      "rid: 4 ***************\n",
      "rid:4, score:[[0.19362072]]\n",
      "[1, 3, 4]\n"
     ]
    }
   ],
   "source": [
    "# 四个物品中选出三个（兼顾多样性&reward）\n",
    "theta = 0.5\n",
    "k = 3\n",
    "\n",
    "ids = dpp(items, k, theta, w=0)\n",
    "print(ids) # [1, 3, 4]"
   ]
  },
  {
   "attachments": {},
   "cell_type": "markdown",
   "metadata": {},
   "source": [
    "###  3、test：DPP带窗口"
   ]
  },
  {
   "cell_type": "code",
   "execution_count": 11,
   "metadata": {},
   "outputs": [
    {
     "name": "stdout",
     "output_type": "stream",
     "text": [
      "\n",
      "rid: 2 ***************\n",
      "rid:2, score:[[-0.03347826]]\n",
      "\n",
      "rid: 3 ***************\n",
      "rid:3, score:[[0.24564228]]\n",
      "\n",
      "rid: 4 ***************\n",
      "rid:4, score:[[0.23034454]]\n",
      "\n",
      "rid: 2 ***************\n",
      "rid:2, score:[[0.23080457]]\n",
      "\n",
      "rid: 4 ***************\n",
      "rid:4, score:[[0.22375504]]\n",
      "[1, 3, 2]\n"
     ]
    }
   ],
   "source": [
    "# 四个物品中选出三个（兼顾多样性&reward）\n",
    "theta = 0.5\n",
    "k = 3\n",
    "\n",
    "ids = dpp(items, k, theta, w=1)\n",
    "print(ids) # [1, 3, 2]"
   ]
  },
  {
   "cell_type": "code",
   "execution_count": 12,
   "metadata": {},
   "outputs": [
    {
     "name": "stdout",
     "output_type": "stream",
     "text": [
      "[0.5672492314307513, 0.9913224280047033, 0.9614517294073714]\n",
      "[0.5446935990443731, 0.8933663285472728]\n",
      "[0.9623367251039103, 0.948863883590221]\n"
     ]
    }
   ],
   "source": [
    "# 简单分析一下带窗口的情况，由于item2、3、4 reward设置的都一样，\n",
    "# 每轮选item只需要与上一个向量围成的面积最大。\n",
    "\n",
    "def calc_det(ids):\n",
    "    V = get_matrix(ids)\n",
    "    As =  V @ V.T\n",
    "    return det(As)\n",
    "\n",
    "# 根据最大的det选择下一个物品\n",
    "\n",
    "# 第一轮：\n",
    "det_score = [calc_det([1]+[id]) for id in [2, 3, 4] ]\n",
    "print(det_score) # [0.5672492314307513, 0.9913224280047033, 0.9614517294073714] 所以第一轮选择item3\n",
    "\n",
    "# 不带窗口第二轮：\n",
    "det_score = [calc_det([1, 3]+[id]) for id in [2, 4]]\n",
    "print(det_score) # [0.5446935990443731, 0.8933663285472728] 不带窗口第二轮选择item4\n",
    "\n",
    "# 带窗口第二轮:\n",
    "det_score = [calc_det([3]+[id]) for id in [2, 4]]\n",
    "print(det_score) # [0.9623367251039103, 0.948863883590221]  带窗口第二轮选择item2\n"
   ]
  }
 ],
 "metadata": {
  "kernelspec": {
   "display_name": "base",
   "language": "python",
   "name": "python3"
  },
  "language_info": {
   "codemirror_mode": {
    "name": "ipython",
    "version": 3
   },
   "file_extension": ".py",
   "mimetype": "text/x-python",
   "name": "python",
   "nbconvert_exporter": "python",
   "pygments_lexer": "ipython3",
   "version": "3.10.9"
  },
  "orig_nbformat": 4
 },
 "nbformat": 4,
 "nbformat_minor": 2
}
